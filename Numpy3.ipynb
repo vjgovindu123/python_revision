{
 "cells": [
  {
   "cell_type": "code",
   "execution_count": 18,
   "id": "c6583a52",
   "metadata": {},
   "outputs": [
    {
     "name": "stdout",
     "output_type": "stream",
     "text": [
      "[1 2 3 4 5]\n",
      "[[1 6 8]\n",
      " [2 3 7]\n",
      " [4 5 9]]\n",
      "Column-Wise\n",
      "[[1 2 5]\n",
      " [3 4 7]\n",
      " [9 6 8]]\n",
      "Row-Wise\n",
      "[[1 6 8]\n",
      " [2 3 7]\n",
      " [4 5 9]]\n"
     ]
    }
   ],
   "source": [
    "#Sorting Single 1-D Array\n",
    "import numpy as np\n",
    "a1=np.array([1,2,3,4,5])\n",
    "print(np.sort(a1))\n",
    "\n",
    "#Sorting 2-D Array\n",
    "# a2=np.array([[1,5,3], [2,5,7], [400, 200, 300]])\n",
    "# a3=np.sort(a2)\n",
    "# print(a3)\n",
    "# print(\"Search 2-D Array Elements Column-Wise\")\n",
    "# print(np.sort(a2,axis=0))\n",
    "# print(\"Search 2-D Array Elements Row-Wise\")\n",
    "# print(np.sort(a2,axis=1))\n",
    "\n",
    "a2=np.array([[1,6,8],[3,2,7],[9,4,5]])\n",
    "print(np.sort(a2))\n",
    "print(\"Column-Wise\")\n",
    "print(np.sort(a2,axis=0))\n",
    "print(\"Row-Wise\")\n",
    "print(np.sort(a2,axis=1))\n"
   ]
  },
  {
   "cell_type": "code",
   "execution_count": 28,
   "id": "b843fe93",
   "metadata": {},
   "outputs": [
    {
     "name": "stdout",
     "output_type": "stream",
     "text": [
      "[[0 1 2 3]\n",
      " [0 1 2 3]\n",
      " [0 1 2 3]]\n",
      "[[0 0 0]\n",
      " [1 1 1]\n",
      " [2 2 2]\n",
      " [3 3 3]]\n",
      "[[4 5 6 7]\n",
      " [4 5 6 7]\n",
      " [4 5 6 7]]\n",
      "[[ 4  6  8 10]\n",
      " [ 4  6  8 10]\n",
      " [ 4  6  8 10]]\n"
     ]
    }
   ],
   "source": [
    "#BroadCasting\n",
    "#Case1:if both matrices dimensions are same then element wise addition is possible\n",
    "a3=np.tile(np.arange(0,4),(3,1))\n",
    "print(a3)\n",
    "#Transpose of a matrix\n",
    "a4=a3.T\n",
    "print(a4)\n",
    "a5=np.tile(np.arange(4,8,1),(3,1))\n",
    "print(a5)\n",
    "print(a3+a5)\n"
   ]
  },
  {
   "cell_type": "code",
   "execution_count": 34,
   "id": "95bb138d",
   "metadata": {},
   "outputs": [
    {
     "name": "stdout",
     "output_type": "stream",
     "text": [
      "[[1 2 3]\n",
      " [1 2 3]\n",
      " [1 2 3]]\n",
      "[[2 4 6]\n",
      " [2 4 6]\n",
      " [2 4 6]]\n"
     ]
    }
   ],
   "source": [
    "#Case2:Right array should be of 1-D and columns should match with the other matrix\n",
    "a6=np.tile(np.arange(1,4,1),(3,1))\n",
    "print(a6)\n",
    "a7=np.tile(np.arange(1,4),(1,1))\n",
    "\n",
    "print(a6+a7)\n"
   ]
  },
  {
   "cell_type": "code",
   "execution_count": null,
   "id": "1dc01fee",
   "metadata": {},
   "outputs": [],
   "source": []
  }
 ],
 "metadata": {
  "kernelspec": {
   "display_name": "Python 3 (ipykernel)",
   "language": "python",
   "name": "python3"
  },
  "language_info": {
   "codemirror_mode": {
    "name": "ipython",
    "version": 3
   },
   "file_extension": ".py",
   "mimetype": "text/x-python",
   "name": "python",
   "nbconvert_exporter": "python",
   "pygments_lexer": "ipython3",
   "version": "3.11.4"
  }
 },
 "nbformat": 4,
 "nbformat_minor": 5
}
