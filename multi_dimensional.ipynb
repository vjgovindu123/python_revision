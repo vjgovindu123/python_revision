{
 "cells": [
  {
   "cell_type": "code",
   "execution_count": 6,
   "id": "9d263f10",
   "metadata": {},
   "outputs": [
    {
     "name": "stdout",
     "output_type": "stream",
     "text": [
      "[1 2 3 4 5 6 7 8 9]\n",
      "[[1 2 3]\n",
      " [4 5 6]\n",
      " [7 8 9]]\n",
      "[1 2 3 4 5 6 7 8 9]\n"
     ]
    }
   ],
   "source": [
    "import numpy as np\n",
    "ar1=np.array([1,2,3,4,5,6,7,8,9])\n",
    "print(ar1)\n",
    "#Reshaping to 3*3 matrix\n",
    "ar2=ar1.reshape(3,3)\n",
    "print(ar2)\n",
    "ar3=ar2.reshape(-1)\n",
    "print(ar3)"
   ]
  },
  {
   "cell_type": "code",
   "execution_count": 30,
   "id": "87b5ae26",
   "metadata": {},
   "outputs": [
    {
     "name": "stdout",
     "output_type": "stream",
     "text": [
      "[ 0  1  2  3  4  5  6  7  8  9 10 11]\n",
      "[[ 0  1  2]\n",
      " [ 3  4  5]\n",
      " [ 6  7  8]\n",
      " [ 9 10 11]]\n",
      "[[ 0  3  6  9]\n",
      " [ 1  4  7 10]\n",
      " [ 2  5  8 11]]\n",
      "(3, 4)\n",
      "10\n",
      "10\n",
      "[0 4 8]\n"
     ]
    }
   ],
   "source": [
    "a1=np.arange(12)\n",
    "print(a1)\n",
    "a1=a1.reshape(4,3)\n",
    "print(a1)\n",
    "#Transpose of a matrix\n",
    "a2=a1.T\n",
    "print(a2)\n",
    "print(a2.shape)\n",
    "#Indexing a2 matrix\n",
    "#Find element 10\n",
    "print(a2[1][3])\n",
    "print(a2[1,3])\n",
    "print(a2[[0,1,2],[0,1,2]])\n"
   ]
  },
  {
   "cell_type": "code",
   "execution_count": 48,
   "id": "a881cace",
   "metadata": {},
   "outputs": [
    {
     "name": "stdout",
     "output_type": "stream",
     "text": [
      "[0 1 2 3 4 5 6 7 8]\n",
      "36\n",
      "[[0 1 2]\n",
      " [3 4 5]\n",
      " [6 7 8]]\n",
      "36\n",
      "8\n",
      "0\n",
      "4.0\n",
      "[ 9 12 15]\n",
      "[ 3 12 21]\n"
     ]
    }
   ],
   "source": [
    "#Aggregate Operations on multidimensional\n",
    "a3=np.arange(9)\n",
    "print(a3)\n",
    "print(a3.sum())\n",
    "a3=a3.reshape(3,3)\n",
    "print(a3)\n",
    "print(a3.sum())\n",
    "print(a3.max())\n",
    "print(a3.min())\n",
    "print(a3.mean())#mean() instead of avg()\n",
    "#Vertical Sum using axis parameter\n",
    "print(np.sum(a3,axis=0))\n",
    "print(np.sum(a3,axis=1))\n"
   ]
  },
  {
   "cell_type": "code",
   "execution_count": 82,
   "id": "8a037737",
   "metadata": {},
   "outputs": [
    {
     "name": "stdout",
     "output_type": "stream",
     "text": [
      "Enter list of Elements1 -2 3 45\n",
      "[1, -2, 3, 45]\n",
      "positive\n",
      "negative\n",
      "positive\n",
      "positive\n"
     ]
    }
   ],
   "source": [
    "input_str=input(\"Enter list of Elements\")\n",
    "a5=list(map(int,input_str.split()))\n",
    "print(a5)\n",
    "for x in a5:\n",
    "    if np.all(x>0):\n",
    "        print(\"positive\")\n",
    "    else:\n",
    "        print(\"negative\")"
   ]
  },
  {
   "cell_type": "markdown",
   "id": "d9f5e314",
   "metadata": {},
   "source": [
    "Use case of fitbit company"
   ]
  },
  {
   "cell_type": "code",
   "execution_count": 126,
   "id": "bdee886c",
   "metadata": {},
   "outputs": [
    {
     "name": "stdout",
     "output_type": "stream",
     "text": [
      "[[b'06-10-2017' b'5464' b'Neutral' b'181' b'5' b'Inactive']\n",
      " [b'07-10-2017' b'6041' b'Sad' b'197' b'8' b'Inactive']\n",
      " [b'08-10-2017' b'25' b'Sad' b'0' b'5' b'Inactive']\n",
      " [b'09-10-2017' b'5461' b'Sad' b'174' b'4' b'Inactive']\n",
      " [b'10-10-2017' b'6915' b'Neutral' b'223' b'5' b'Active']\n",
      " [b'11-10-2017' b'4545' b'Sad' b'149' b'6' b'Inactive']\n",
      " [b'12-10-2017' b'4340' b'Sad' b'140' b'6' b'Inactive']\n",
      " [b'13-10-2017' b'1230' b'Sad' b'38' b'7' b'Inactive']\n",
      " [b'14-10-2017' b'61' b'Sad' b'1' b'5' b'Inactive']\n",
      " [b'15-10-2017' b'1258' b'Sad' b'40' b'6' b'Inactive']\n",
      " [b'16-10-2017' b'3148' b'Sad' b'101' b'8' b'Inactive']\n",
      " [b'17-10-2017' b'4687' b'Sad' b'152' b'5' b'Inactive']\n",
      " [b'18-10-2017' b'4732' b'Happy' b'150' b'6' b'Active']\n",
      " [b'19-10-2017' b'3519' b'Sad' b'113' b'7' b'Inactive']\n",
      " [b'20-10-2017' b'1580' b'Sad' b'49' b'5' b'Inactive']\n",
      " [b'21-10-2017' b'2822' b'Sad' b'86' b'6' b'Inactive']\n",
      " [b'22-10-2017' b'181' b'Sad' b'6' b'8' b'Inactive']\n",
      " [b'23-10-2017' b'3158' b'Neutral' b'99' b'5' b'Inactive']\n",
      " [b'24-10-2017' b'4383' b'Neutral' b'143' b'4' b'Inactive']\n",
      " [b'25-10-2017' b'3881' b'Neutral' b'125' b'5' b'Inactive']\n",
      " [b'26-10-2017' b'4037' b'Neutral' b'129' b'6' b'Inactive']\n",
      " [b'27-10-2017' b'202' b'Neutral' b'6' b'8' b'Inactive']\n",
      " [b'28-10-2017' b'292' b'Neutral' b'9' b'5' b'Inactive']\n",
      " [b'29-10-2017' b'330' b'Happy' b'10' b'6' b'Inactive']\n",
      " [b'30-10-2017' b'2209' b'Neutral' b'72' b'5' b'Inactive']\n",
      " [b'31-10-2017' b'4550' b'Happy' b'150' b'8' b'Active']\n",
      " [b'01-11-2017' b'4435' b'Happy' b'141' b'5' b'Inactive']\n",
      " [b'02-11-2017' b'4779' b'Happy' b'156' b'4' b'Inactive']\n",
      " [b'03-11-2017' b'1831' b'Happy' b'57' b'5' b'Inactive']\n",
      " [b'04-11-2017' b'2255' b'Happy' b'72' b'4' b'Inactive']\n",
      " [b'05-11-2017' b'539' b'Happy' b'17' b'5' b'Active']\n",
      " [b'06-11-2017' b'5464' b'Happy' b'181' b'4' b'Inactive']\n",
      " [b'07-11-2017' b'6041' b'Neutral' b'197' b'3' b'Inactive']\n",
      " [b'08-11-2017' b'4068' b'Happy' b'131' b'2' b'Inactive']\n",
      " [b'09-11-2017' b'4683' b'Happy' b'154' b'9' b'Inactive']\n",
      " [b'10-11-2017' b'4033' b'Happy' b'137' b'5' b'Inactive']\n",
      " [b'11-11-2017' b'6314' b'Happy' b'193' b'6' b'Active']\n",
      " [b'12-11-2017' b'614' b'Happy' b'19' b'4' b'Active']\n",
      " [b'13-11-2017' b'3149' b'Happy' b'101' b'5' b'Active']\n",
      " [b'14-11-2017' b'4005' b'Happy' b'139' b'8' b'Active']\n",
      " [b'15-11-2017' b'4880' b'Happy' b'164' b'4' b'Active']\n",
      " [b'16-11-2017' b'4136' b'Happy' b'137' b'5' b'Active']\n",
      " [b'17-11-2017' b'705' b'Happy' b'22' b'6' b'Active']\n",
      " [b'18-11-2017' b'570' b'Neutral' b'17' b'5' b'Active']\n",
      " [b'19-11-2017' b'269' b'Happy' b'9' b'6' b'Active']\n",
      " [b'20-11-2017' b'4275' b'Happy' b'145' b'5' b'Inactive']\n",
      " [b'21-11-2017' b'5999' b'Happy' b'192' b'6' b'Inactive']\n",
      " [b'22-11-2017' b'4421' b'Happy' b'146' b'5' b'Inactive']\n",
      " [b'23-11-2017' b'6930' b'Happy' b'234' b'6' b'Inactive']\n",
      " [b'24-11-2017' b'5195' b'Happy' b'167' b'5' b'Inactive']\n",
      " [b'25-11-2017' b'546' b'Happy' b'16' b'6' b'Inactive']\n",
      " [b'26-11-2017' b'493' b'Happy' b'17' b'7' b'Active']\n",
      " [b'27-11-2017' b'995' b'Happy' b'32' b'6' b'Active']\n",
      " [b'28-11-2017' b'1163' b'Neutral' b'35' b'7' b'Active']\n",
      " [b'29-11-2017' b'6676' b'Sad' b'220' b'6' b'Active']\n",
      " [b'30-11-2017' b'3608' b'Happy' b'116' b'5' b'Active']\n",
      " [b'01-12-2017' b'774' b'Happy' b'23' b'6' b'Active']\n",
      " [b'02-12-2017' b'1421' b'Happy' b'44' b'7' b'Active']\n",
      " [b'03-12-2017' b'4064' b'Happy' b'131' b'8' b'Active']\n",
      " [b'04-12-2017' b'2725' b'Happy' b'86' b'8' b'Active']\n",
      " [b'05-12-2017' b'5934' b'Happy' b'194' b'7' b'Active']\n",
      " [b'06-12-2017' b'1867' b'Happy' b'60' b'8' b'Active']\n",
      " [b'07-12-2017' b'3721' b'Sad' b'121' b'5' b'Active']\n",
      " [b'08-12-2017' b'2374' b'Neutral' b'76' b'4' b'Inactive']\n",
      " [b'09-12-2017' b'2909' b'Neutral' b'93' b'3' b'Active']\n",
      " [b'10-12-2017' b'1648' b'Sad' b'53' b'3' b'Active']\n",
      " [b'11-12-2017' b'799' b'Sad' b'25' b'4' b'Inactive']\n",
      " [b'12-12-2017' b'7102' b'Neutral' b'227' b'5' b'Active']\n",
      " [b'13-12-2017' b'3941' b'Neutral' b'125' b'5' b'Active']\n",
      " [b'14-12-2017' b'7422' b'Happy' b'243' b'5' b'Active']\n",
      " [b'15-12-2017' b'437' b'Neutral' b'14' b'3' b'Active']\n",
      " [b'16-12-2017' b'1231' b'Neutral' b'39' b'4' b'Active']\n",
      " [b'17-12-2017' b'1696' b'Sad' b'55' b'4' b'Inactive']\n",
      " [b'18-12-2017' b'4921' b'Neutral' b'158' b'5' b'Active']\n",
      " [b'19-12-2017' b'221' b'Sad' b'7' b'5' b'Active']\n",
      " [b'20-12-2017' b'6500' b'Neutral' b'213' b'5' b'Active']\n",
      " [b'21-12-2017' b'3575' b'Neutral' b'116' b'5' b'Active']\n",
      " [b'22-12-2017' b'4061' b'Sad' b'129' b'5' b'Inactive']\n",
      " [b'23-12-2017' b'651' b'Sad' b'21' b'5' b'Inactive']\n",
      " [b'24-12-2017' b'753' b'Sad' b'28' b'4' b'Inactive']\n",
      " [b'25-12-2017' b'518' b'Sad' b'16' b'3' b'Inactive']\n",
      " [b'26-12-2017' b'5537' b'Happy' b'180' b'4' b'Active']\n",
      " [b'27-12-2017' b'4108' b'Neutral' b'138' b'5' b'Active']\n",
      " [b'28-12-2017' b'5376' b'Happy' b'176' b'5' b'Active']\n",
      " [b'29-12-2017' b'3066' b'Neutral' b'99' b'4' b'Active']\n",
      " [b'30-12-2017' b'177' b'Sad' b'5' b'5' b'Inactive']\n",
      " [b'31-12-2017' b'36' b'Sad' b'1' b'3' b'Inactive']\n",
      " [b'01-01-2018' b'299' b'Sad' b'10' b'3' b'Inactive']\n",
      " [b'02-01-2018' b'1447' b'Neutral' b'47' b'3' b'Inactive']\n",
      " [b'03-01-2018' b'2599' b'Neutral' b'84' b'2' b'Inactive']\n",
      " [b'04-01-2018' b'702' b'Sad' b'23' b'3' b'Inactive']\n",
      " [b'05-01-2018' b'133' b'Sad' b'4' b'2' b'Inactive']\n",
      " [b'06-01-2018' b'153' b'Happy' b'0' b'8' b'Inactive']\n",
      " [b'07-01-2018' b'500' b'Neutral' b'0' b'5' b'Active']\n",
      " [b'08-01-2018' b'2127' b'Neutral' b'0' b'5' b'Inactive']\n",
      " [b'09-01-2018' b'2203' b'Happy' b'0' b'5' b'Active']]\n"
     ]
    }
   ],
   "source": [
    "fitbitdata=np.loadtxt(\"E:/DataSets/fit.txt\",dtype='S')\n",
    "print(fitbitdata)\n"
   ]
  },
  {
   "cell_type": "code",
   "execution_count": 168,
   "id": "aed42839",
   "metadata": {},
   "outputs": [
    {
     "name": "stdout",
     "output_type": "stream",
     "text": [
      "|S10 |S10 |S10 |S10 |S10 |S10\n",
      "Date  [b'06-10-2017' b'07-10-2017' b'08-10-2017' b'09-10-2017' b'10-10-2017'\n",
      " b'11-10-2017' b'12-10-2017' b'13-10-2017' b'14-10-2017' b'15-10-2017'\n",
      " b'16-10-2017' b'17-10-2017' b'18-10-2017' b'19-10-2017' b'20-10-2017'\n",
      " b'21-10-2017' b'22-10-2017' b'23-10-2017' b'24-10-2017' b'25-10-2017'\n",
      " b'26-10-2017' b'27-10-2017' b'28-10-2017' b'29-10-2017' b'30-10-2017'\n",
      " b'31-10-2017' b'01-11-2017' b'02-11-2017' b'03-11-2017' b'04-11-2017'\n",
      " b'05-11-2017' b'06-11-2017' b'07-11-2017' b'08-11-2017' b'09-11-2017'\n",
      " b'10-11-2017' b'11-11-2017' b'12-11-2017' b'13-11-2017' b'14-11-2017'\n",
      " b'15-11-2017' b'16-11-2017' b'17-11-2017' b'18-11-2017' b'19-11-2017'\n",
      " b'20-11-2017' b'21-11-2017' b'22-11-2017' b'23-11-2017' b'24-11-2017'\n",
      " b'25-11-2017' b'26-11-2017' b'27-11-2017' b'28-11-2017' b'29-11-2017'\n",
      " b'30-11-2017' b'01-12-2017' b'02-12-2017' b'03-12-2017' b'04-12-2017'\n",
      " b'05-12-2017' b'06-12-2017' b'07-12-2017' b'08-12-2017' b'09-12-2017'\n",
      " b'10-12-2017' b'11-12-2017' b'12-12-2017' b'13-12-2017' b'14-12-2017'\n",
      " b'15-12-2017' b'16-12-2017' b'17-12-2017' b'18-12-2017' b'19-12-2017'\n",
      " b'20-12-2017' b'21-12-2017' b'22-12-2017' b'23-12-2017' b'24-12-2017'\n",
      " b'25-12-2017' b'26-12-2017' b'27-12-2017' b'28-12-2017' b'29-12-2017'\n",
      " b'30-12-2017' b'31-12-2017' b'01-01-2018' b'02-01-2018' b'03-01-2018'\n",
      " b'04-01-2018' b'05-01-2018' b'06-01-2018' b'07-01-2018' b'08-01-2018'\n",
      " b'09-01-2018']\n",
      "Steps [5464 6041   25 5461 6915 4545 4340 1230   61 1258 3148 4687 4732 3519\n",
      " 1580 2822  181 3158 4383 3881 4037  202  292  330 2209 4550 4435 4779\n",
      " 1831 2255  539 5464 6041 4068 4683 4033 6314  614 3149 4005 4880 4136\n",
      "  705  570  269 4275 5999 4421 6930 5195  546  493  995 1163 6676 3608\n",
      "  774 1421 4064 2725 5934 1867 3721 2374 2909 1648  799 7102 3941 7422\n",
      "  437 1231 1696 4921  221 6500 3575 4061  651  753  518 5537 4108 5376\n",
      " 3066  177   36  299 1447 2599  702  133  153  500 2127 2203]\n",
      "mood [b'Neutral' b'Sad' b'Sad' b'Sad' b'Neutral' b'Sad' b'Sad' b'Sad' b'Sad'\n",
      " b'Sad' b'Sad' b'Sad' b'Happy' b'Sad' b'Sad' b'Sad' b'Sad' b'Neutral'\n",
      " b'Neutral' b'Neutral' b'Neutral' b'Neutral' b'Neutral' b'Happy'\n",
      " b'Neutral' b'Happy' b'Happy' b'Happy' b'Happy' b'Happy' b'Happy' b'Happy'\n",
      " b'Neutral' b'Happy' b'Happy' b'Happy' b'Happy' b'Happy' b'Happy' b'Happy'\n",
      " b'Happy' b'Happy' b'Happy' b'Neutral' b'Happy' b'Happy' b'Happy' b'Happy'\n",
      " b'Happy' b'Happy' b'Happy' b'Happy' b'Happy' b'Neutral' b'Sad' b'Happy'\n",
      " b'Happy' b'Happy' b'Happy' b'Happy' b'Happy' b'Happy' b'Sad' b'Neutral'\n",
      " b'Neutral' b'Sad' b'Sad' b'Neutral' b'Neutral' b'Happy' b'Neutral'\n",
      " b'Neutral' b'Sad' b'Neutral' b'Sad' b'Neutral' b'Neutral' b'Sad' b'Sad'\n",
      " b'Sad' b'Sad' b'Happy' b'Neutral' b'Happy' b'Neutral' b'Sad' b'Sad'\n",
      " b'Sad' b'Neutral' b'Neutral' b'Sad' b'Sad' b'Happy' b'Neutral' b'Neutral'\n",
      " b'Happy']\n",
      "calories_burnt [181 197   0 174 223 149 140  38   1  40 101 152 150 113  49  86   6  99\n",
      " 143 125 129   6   9  10  72 150 141 156  57  72  17 181 197 131 154 137\n",
      " 193  19 101 139 164 137  22  17   9 145 192 146 234 167  16  17  32  35\n",
      " 220 116  23  44 131  86 194  60 121  76  93  53  25 227 125 243  14  39\n",
      "  55 158   7 213 116 129  21  28  16 180 138 176  99   5   1  10  47  84\n",
      "  23   4   0   0   0   0]\n",
      "hours_of_sleep [5 8 5 4 5 6 6 7 5 6 8 5 6 7 5 6 8 5 4 5 6 8 5 6 5 8 5 4 5 4 5 4 3 2 9 5 6\n",
      " 4 5 8 4 5 6 5 6 5 6 5 6 5 6 7 6 7 6 5 6 7 8 8 7 8 5 4 3 3 4 5 5 5 3 4 4 5\n",
      " 5 5 5 5 5 4 3 4 5 5 4 5 3 3 3 2 3 2 8 5 5 5]\n",
      "[b'Inactive' b'Inactive' b'Inactive' b'Inactive' b'Active' b'Inactive'\n",
      " b'Inactive' b'Inactive' b'Inactive' b'Inactive' b'Inactive' b'Inactive'\n",
      " b'Active' b'Inactive' b'Inactive' b'Inactive' b'Inactive' b'Inactive'\n",
      " b'Inactive' b'Inactive' b'Inactive' b'Inactive' b'Inactive' b'Inactive'\n",
      " b'Inactive' b'Active' b'Inactive' b'Inactive' b'Inactive' b'Inactive'\n",
      " b'Active' b'Inactive' b'Inactive' b'Inactive' b'Inactive' b'Inactive'\n",
      " b'Active' b'Active' b'Active' b'Active' b'Active' b'Active' b'Active'\n",
      " b'Active' b'Active' b'Inactive' b'Inactive' b'Inactive' b'Inactive'\n",
      " b'Inactive' b'Inactive' b'Active' b'Active' b'Active' b'Active' b'Active'\n",
      " b'Active' b'Active' b'Active' b'Active' b'Active' b'Active' b'Active'\n",
      " b'Inactive' b'Active' b'Active' b'Inactive' b'Active' b'Active' b'Active'\n",
      " b'Active' b'Active' b'Inactive' b'Active' b'Active' b'Active' b'Active'\n",
      " b'Inactive' b'Inactive' b'Inactive' b'Inactive' b'Active' b'Active'\n",
      " b'Active' b'Active' b'Inactive' b'Inactive' b'Inactive' b'Inactive'\n",
      " b'Inactive' b'Inactive' b'Inactive' b'Inactive' b'Active' b'Inactive'\n",
      " b'Active']\n",
      "Sum of Steps 281850\n",
      "Sum of Calories 8971\n",
      "Sum of Sleeping Hours 501\n"
     ]
    },
    {
     "ename": "TypeError",
     "evalue": "'numpy.dtype[int32]' object is not callable",
     "output_type": "error",
     "traceback": [
      "\u001b[1;31m---------------------------------------------------------------------------\u001b[0m",
      "\u001b[1;31mTypeError\u001b[0m                                 Traceback (most recent call last)",
      "Cell \u001b[1;32mIn[168], line 21\u001b[0m\n\u001b[0;32m     19\u001b[0m \u001b[38;5;28mprint\u001b[39m(\u001b[38;5;124m\"\u001b[39m\u001b[38;5;124mSum of Calories\u001b[39m\u001b[38;5;124m\"\u001b[39m,calories_burnt\u001b[38;5;241m.\u001b[39msum())\n\u001b[0;32m     20\u001b[0m \u001b[38;5;28mprint\u001b[39m(\u001b[38;5;124m\"\u001b[39m\u001b[38;5;124mSum of Sleeping Hours\u001b[39m\u001b[38;5;124m\"\u001b[39m,hours_of_sleep\u001b[38;5;241m.\u001b[39msum())\n\u001b[1;32m---> 21\u001b[0m \u001b[38;5;28mprint\u001b[39m(steps\u001b[38;5;241m.\u001b[39mdtype())\n",
      "\u001b[1;31mTypeError\u001b[0m: 'numpy.dtype[int32]' object is not callable"
     ]
    }
   ],
   "source": [
    "#Dividing the data columnns and exracting indiviudal features by typecasting \n",
    "data=fitbitdata.T\n",
    "#print(data)\n",
    "date,steps,mood,calories_burnt,hours_of_sleep,active=fitbitdata.T\n",
    "print(date.dtype,steps.dtype,mood.dtype,calories_burnt.dtype,hours_of_sleep.dtype,active.dtype)\n",
    "date=np.array(date,dtype='S')\n",
    "print(\"Date \",date)\n",
    "steps=np.array(steps,dtype='int')\n",
    "print(\"Steps\",steps)\n",
    "mood=np.array(mood,dtype='S')\n",
    "print(\"mood\",mood)\n",
    "calories_burnt=np.array(calories_burnt,dtype='int')\n",
    "print(\"calories_burnt\",calories_burnt)\n",
    "hours_of_sleep=np.array(hours_of_sleep,dtype='int')\n",
    "print(\"hours_of_sleep\",hours_of_sleep)\n",
    "active=np.array(active,dtype='S')\n",
    "print(active)\n",
    "print(\"Sum of Steps\",steps.sum())\n",
    "print(\"Sum of Calories\",calories_burnt.sum())\n",
    "print(\"Sum of Sleeping Hours\",hours_of_sleep.sum())\n"
   ]
  },
  {
   "cell_type": "code",
   "execution_count": 184,
   "id": "12d44efb",
   "metadata": {},
   "outputs": [
    {
     "name": "stdout",
     "output_type": "stream",
     "text": [
      "int32\n",
      "|S10\n",
      "2935.9375\n",
      "5.21875\n",
      "93.44791666666667\n",
      "(array([b'Happy', b'Neutral', b'Sad'], dtype='|S10'), array([40, 27, 26], dtype=int64))\n"
     ]
    }
   ],
   "source": [
    "#date,steps,mood,calories_burnt,hours_of_sleep,active=fitbitdata.T\n",
    "print(steps.dtype)\n",
    "np.unique(mood)\n",
    "print(active.dtype)\n",
    "print(np.mean(steps))\n",
    "print(np.mean(hours_of_sleep))\n",
    "print(np.mean(calories_burnt))\n",
    "print(np.unique(mood[steps>100],return_counts=True))\n"
   ]
  },
  {
   "cell_type": "code",
   "execution_count": null,
   "id": "4e987205",
   "metadata": {},
   "outputs": [],
   "source": []
  }
 ],
 "metadata": {
  "kernelspec": {
   "display_name": "Python 3 (ipykernel)",
   "language": "python",
   "name": "python3"
  },
  "language_info": {
   "codemirror_mode": {
    "name": "ipython",
    "version": 3
   },
   "file_extension": ".py",
   "mimetype": "text/x-python",
   "name": "python",
   "nbconvert_exporter": "python",
   "pygments_lexer": "ipython3",
   "version": "3.11.4"
  }
 },
 "nbformat": 4,
 "nbformat_minor": 5
}
