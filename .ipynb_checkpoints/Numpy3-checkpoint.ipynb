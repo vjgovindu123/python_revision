{
 "cells": [
  {
   "cell_type": "code",
   "execution_count": 18,
   "id": "b98c2de6",
   "metadata": {},
   "outputs": [
    {
     "name": "stdout",
     "output_type": "stream",
     "text": [
      "[1 2 3 4 5]\n",
      "[[1 6 8]\n",
      " [2 3 7]\n",
      " [4 5 9]]\n",
      "Column-Wise\n",
      "[[1 2 5]\n",
      " [3 4 7]\n",
      " [9 6 8]]\n",
      "Row-Wise\n",
      "[[1 6 8]\n",
      " [2 3 7]\n",
      " [4 5 9]]\n"
     ]
    }
   ],
   "source": [
    "#Sorting Single 1-D Array\n",
    "import numpy as np\n",
    "a1=np.array([1,2,3,4,5])\n",
    "print(np.sort(a1))\n",
    "\n",
    "#Sorting 2-D Array\n",
    "# a2=np.array([[1,5,3], [2,5,7], [400, 200, 300]])\n",
    "# a3=np.sort(a2)\n",
    "# print(a3)\n",
    "# print(\"Search 2-D Array Elements Column-Wise\")\n",
    "# print(np.sort(a2,axis=0))\n",
    "# print(\"Search 2-D Array Elements Row-Wise\")\n",
    "# print(np.sort(a2,axis=1))\n",
    "\n",
    "a2=np.array([[1,6,8],[3,2,7],[9,4,5]])\n",
    "print(np.sort(a2))\n",
    "print(\"Column-Wise\")\n",
    "print(np.sort(a2,axis=0))\n",
    "print(\"Row-Wise\")\n",
    "print(np.sort(a2,axis=1))\n"
   ]
  },
  {
   "cell_type": "code",
   "execution_count": 28,
   "id": "5092a38e",
   "metadata": {},
   "outputs": [
    {
     "name": "stdout",
     "output_type": "stream",
     "text": [
      "[[0 1 2 3]\n",
      " [0 1 2 3]\n",
      " [0 1 2 3]]\n",
      "[[0 0 0]\n",
      " [1 1 1]\n",
      " [2 2 2]\n",
      " [3 3 3]]\n",
      "[[4 5 6 7]\n",
      " [4 5 6 7]\n",
      " [4 5 6 7]]\n",
      "[[ 4  6  8 10]\n",
      " [ 4  6  8 10]\n",
      " [ 4  6  8 10]]\n"
     ]
    }
   ],
   "source": [
    "#BroadCasting\n",
    "#Case1:if both matrices dimensions are same then element wise addition is possible\n",
    "a3=np.tile(np.arange(0,4),(3,1))\n",
    "print(a3)\n",
    "#Transpose of a matrix\n",
    "a4=a3.T\n",
    "print(a4)\n",
    "a5=np.tile(np.arange(4,8,1),(3,1))\n",
    "print(a5)\n",
    "print(a3+a5)\n"
   ]
  },
  {
   "cell_type": "code",
   "execution_count": 33,
   "id": "c7e5c8b8",
   "metadata": {},
   "outputs": [
    {
     "name": "stdout",
     "output_type": "stream",
     "text": [
      "[[1 2 3]\n",
      " [1 2 3]\n",
      " [1 2 3]]\n",
      "[[2 4 6]\n",
      " [2 4 6]\n",
      " [2 4 6]]\n"
     ]
    },
    {
     "ename": "ValueError",
     "evalue": "operands could not be broadcast together with shapes (3,3) (4,) ",
     "output_type": "error",
     "traceback": [
      "\u001b[1;31m---------------------------------------------------------------------------\u001b[0m",
      "\u001b[1;31mValueError\u001b[0m                                Traceback (most recent call last)",
      "Cell \u001b[1;32mIn[33], line 7\u001b[0m\n\u001b[0;32m      5\u001b[0m a8\u001b[38;5;241m=\u001b[39mnp\u001b[38;5;241m.\u001b[39marray([\u001b[38;5;241m1\u001b[39m,\u001b[38;5;241m2\u001b[39m,\u001b[38;5;241m3\u001b[39m,\u001b[38;5;241m4\u001b[39m])\n\u001b[0;32m      6\u001b[0m \u001b[38;5;28mprint\u001b[39m(a6\u001b[38;5;241m+\u001b[39ma7)\n\u001b[1;32m----> 7\u001b[0m \u001b[38;5;28mprint\u001b[39m(a6\u001b[38;5;241m+\u001b[39ma8)\n",
      "\u001b[1;31mValueError\u001b[0m: operands could not be broadcast together with shapes (3,3) (4,) "
     ]
    }
   ],
   "source": [
    "#Case2:Right array should be of 1-D and columns should match with the other matrix\n",
    "a6=np.tile(np.arange(1,4,1),(3,1))\n",
    "print(a6)\n",
    "a7=np.tile(np.arange(1,4),(1,1))\n",
    "\n",
    "print(a6+a7)\n"
   ]
  },
  {
   "cell_type": "code",
   "execution_count": null,
   "id": "f8f3c0df",
   "metadata": {},
   "outputs": [],
   "source": []
  }
 ],
 "metadata": {
  "kernelspec": {
   "display_name": "Python 3 (ipykernel)",
   "language": "python",
   "name": "python3"
  },
  "language_info": {
   "codemirror_mode": {
    "name": "ipython",
    "version": 3
   },
   "file_extension": ".py",
   "mimetype": "text/x-python",
   "name": "python",
   "nbconvert_exporter": "python",
   "pygments_lexer": "ipython3",
   "version": "3.11.4"
  }
 },
 "nbformat": 4,
 "nbformat_minor": 5
}
