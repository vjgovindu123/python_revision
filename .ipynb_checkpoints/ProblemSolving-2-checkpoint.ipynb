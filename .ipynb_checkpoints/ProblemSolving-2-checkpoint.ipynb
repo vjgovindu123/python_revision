{
 "cells": [
  {
   "cell_type": "markdown",
   "id": "bef94292",
   "metadata": {},
   "source": [
    "Q1. Print Squares of Given Numbers\n",
    "Problem Description\n",
    "Using a loop, Print the squares of the following numbers: 1, 3, 6, 10, 15, 21. Print each of the number in a new line."
   ]
  },
  {
   "cell_type": "code",
   "execution_count": null,
   "id": "4b249cad",
   "metadata": {},
   "outputs": [],
   "source": [
    "def powerofnumbers():\n",
    "    a=[1,3,6,10,15,21]\n",
    "    for i in a:\n",
    "        print(i**2)\n",
    "    \n",
    "if __name__=='__main__':\n",
    "    powerofnumbers()"
   ]
  },
  {
   "cell_type": "code",
   "execution_count": null,
   "id": "f6dd1b75",
   "metadata": {},
   "outputs": [],
   "source": [
    "#Guess? the output for the code?\n",
    "i=2\n",
    "if i==2:\n",
    "    i+=1\n",
    "for j in range(i):\n",
    "    pass\n",
    "    break\n",
    "    i+=1\n",
    "print(i)"
   ]
  },
  {
   "cell_type": "markdown",
   "id": "dd1e0cd1",
   "metadata": {},
   "source": [
    "Take an integer A as input, you have to tell whether it is a prime number or not.\n",
    "A prime number is a natural number greater than 1 which is divisible only by 1 and itself.\n",
    "Problem Constraints\n",
    "1 <= A <= 106\n",
    "Input Format\n",
    "First and only line of the input contains a single integer A.\n",
    "Output Format\n",
    "Print YES if A is a prime, else print NO.\n",
    "\n",
    "Example Input\n",
    "Input 1:\n",
    " 3 \n",
    "Input 2:\n",
    " 4 \n",
    "\n",
    "Example Output\n",
    "Output 1:\n",
    " YES \n",
    "Output 2:\n",
    " NO \n"
   ]
  },
  {
   "cell_type": "code",
   "execution_count": null,
   "id": "aad908c2",
   "metadata": {},
   "outputs": [],
   "source": [
    "#Check Whether a number is a prime number or not\n",
    "def primenumber():\n",
    "    b=int(input(\"Enter a Number\"))\n",
    "    pcount=0\n",
    "    for i in range(1,b+1):\n",
    "            if(b%i==0):\n",
    "                pcount+=1\n",
    "    if pcount==2:\n",
    "        print(\"Number is a Prime Number\")\n",
    "    else:\n",
    "        print(\"Number is a Non-Prime Number\")\n",
    "\n",
    "if __name__=='__main__':\n",
    "    primenumber()"
   ]
  },
  {
   "cell_type": "markdown",
   "id": "8ff69907",
   "metadata": {},
   "source": [
    "#What would be the output of the following program?\n",
    "n=8\n",
    "while n>=0:\n",
    "   n -= 2\n",
    "   if n%2==0:\n",
    "       continue\n",
    "       print(n, end=\" \")\n",
    "   else:\n",
    "       print(\"Exec\", end=\" \")"
   ]
  },
  {
   "cell_type": "code",
   "execution_count": null,
   "id": "b829ed08",
   "metadata": {},
   "outputs": [],
   "source": [
    "n=8\n",
    "while n>=0:\n",
    "   n -= 2\n",
    "   if n%2==0:\n",
    "       continue\n",
    "       print(n, end=\" \")\n",
    "   else:\n",
    "       print(\"Exec\", end=\" \")"
   ]
  },
  {
   "cell_type": "code",
   "execution_count": null,
   "id": "782b052a",
   "metadata": {},
   "outputs": [],
   "source": [
    "Given the Number of Test Cases as T,\n",
    "For each test case, take an integer N as input, you have to tell whether it is a perfect number or not.\n",
    "A perfect number is a positive integer that is equal to the sum of its proper positive divisors (excluding the number itself). \n",
    "A positive proper divisor divides a number without leaving any remainder\n",
    "Input\n",
    "2\n",
    "4\n",
    "6\n",
    "Output\n",
    "NO\n",
    "YES "
   ]
  },
  {
   "cell_type": "code",
   "execution_count": null,
   "id": "c3972aed",
   "metadata": {},
   "outputs": [],
   "source": [
    "def perfectnumber():\n",
    "    T=int(input(\"Enter TestCases\"))\n",
    "    while T>0 or T!=0:\n",
    "        N=int(input(\"Enter Number\"))\n",
    "        sum=0\n",
    "        for i in range(1,N):\n",
    "            if N%i==0:\n",
    "                sum+=i\n",
    "        if sum==N:\n",
    "            print(\"Prime\")\n",
    "        else:\n",
    "            print(\"Non-Prime\")\n",
    "        T=T-1\n",
    "if __name__=='__main__':\n",
    "    perfectnumber()"
   ]
  },
  {
   "cell_type": "code",
   "execution_count": 1,
   "id": "5eb146df",
   "metadata": {},
   "outputs": [
    {
     "name": "stdout",
     "output_type": "stream",
     "text": [
      "Enter number of testcases2\n",
      "enter number to check perfect number6\n",
      "Perfect Number\n",
      "enter number to check perfect number4\n",
      "Not a Perfect Number\n"
     ]
    }
   ],
   "source": [
    "#perfect Number Using Iteration Method\n",
    "def PerfectNum():\n",
    "    T=int(input(\"Enter number of testcases\"))\n",
    "    while T>0:\n",
    "        num=int(input(\"enter number to check perfect number\"))\n",
    "        numsum=sum([i for i in range(1,num) if num%i==0])\n",
    "        print(\"Perfect Number\") if numsum==num else print(\"Not a Perfect Number\")\n",
    "        T=T-1\n",
    "if __name__=='__main__':\n",
    "    PerfectNum()"
   ]
  },
  {
   "cell_type": "code",
   "execution_count": 1,
   "id": "676444a1",
   "metadata": {},
   "outputs": [
    {
     "name": "stdout",
     "output_type": "stream",
     "text": [
      "Enter TestCases2\n",
      "Enter a Number10\n",
      "The Sum of number is  55\n",
      "Enter a Number5\n",
      "The Sum of number is  15\n"
     ]
    }
   ],
   "source": [
    "#Sum of  Numbers from 1-10 with number of Testcases\n",
    "def summation():\n",
    "    T=int(input(\"Enter TestCases\"))\n",
    "    while T>0:\n",
    "        n=int(input(\"Enter a Number\"))\n",
    "        sumn=sum([i for i in range(1,n+1)])\n",
    "        print(\"The Sum of number is \",sumn)\n",
    "        T-=1\n",
    "    \n",
    "if __name__=='__main__':\n",
    "    summation()\n",
    "    \n"
   ]
  },
  {
   "cell_type": "code",
   "execution_count": null,
   "id": "1fae50ed",
   "metadata": {},
   "outputs": [],
   "source": [
    "Take an integer A as input.\n",
    "You have to print all the perfect numbers which lie in the range [1, A] in ascending order.\n",
    "Perfect number is a positive integer which is equal to the sum of its proper positive divisors.\n",
    "A proper divisor of a natural number is the divisor that is strictly less than the number.\n",
    "Problem Constraints\n",
    "1 <= A <= 1000\n",
    "Input Format\n",
    "First and only line of the input contains a single positive integer A.\n",
    "Output Format\n",
    "Print the perfect numbers in ascending order in separate lines.\n",
    "Example Input\n",
    "Input 1:\n",
    " 8 \n",
    "Input 2:\n",
    " 35 \n",
    "Example Output\n",
    "Output 1:\n",
    " 6 \n",
    "Output 2:\n",
    " 6 \n",
    " 28 "
   ]
  },
  {
   "cell_type": "code",
   "execution_count": null,
   "id": "57434982",
   "metadata": {},
   "outputs": [],
   "source": []
  }
 ],
 "metadata": {
  "kernelspec": {
   "display_name": "Python 3 (ipykernel)",
   "language": "python",
   "name": "python3"
  },
  "language_info": {
   "codemirror_mode": {
    "name": "ipython",
    "version": 3
   },
   "file_extension": ".py",
   "mimetype": "text/x-python",
   "name": "python",
   "nbconvert_exporter": "python",
   "pygments_lexer": "ipython3",
   "version": "3.11.4"
  }
 },
 "nbformat": 4,
 "nbformat_minor": 5
}
