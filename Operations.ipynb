{
 "cells": [
  {
   "cell_type": "code",
   "execution_count": 3,
   "id": "46aabecc",
   "metadata": {},
   "outputs": [
    {
     "name": "stdout",
     "output_type": "stream",
     "text": [
      "Vijay\n",
      "Hello Vijay\n"
     ]
    }
   ],
   "source": [
    "#Hello {Name}\n",
    "Name=input(\"\")\n",
    "print(f\"Hello {Name}\")"
   ]
  },
  {
   "cell_type": "code",
   "execution_count": 5,
   "id": "ee519e24",
   "metadata": {},
   "outputs": [
    {
     "name": "stdout",
     "output_type": "stream",
     "text": [
      "True\n"
     ]
    }
   ],
   "source": [
    "a=-1\n",
    "b=-1\n",
    "c=+2\n",
    "\n",
    "x=a<b+c\n",
    "print(x)"
   ]
  },
  {
   "cell_type": "code",
   "execution_count": 11,
   "id": "5b7571ba",
   "metadata": {},
   "outputs": [
    {
     "name": "stdout",
     "output_type": "stream",
     "text": [
      "True\n",
      "True\n",
      "False\n",
      "5.0\n",
      "5\n"
     ]
    }
   ],
   "source": [
    "print(True==1)\n",
    "print(True)\n",
    "print(1=='1')\n",
    "print(55/11)\n",
    "print(55//11)"
   ]
  },
  {
   "cell_type": "code",
   "execution_count": 12,
   "id": "04b25612",
   "metadata": {},
   "outputs": [
    {
     "name": "stdout",
     "output_type": "stream",
     "text": [
      "enter A10\n",
      "enter B20\n",
      "10\n"
     ]
    }
   ],
   "source": [
    "A=int(input(\"enter A\"))\n",
    "B=int(input(\"enter B\"))\n",
    "if(A<B):\n",
    "    print(A)\n",
    "else:\n",
    "    print(B)"
   ]
  },
  {
   "cell_type": "code",
   "execution_count": 15,
   "id": "9dc9a479",
   "metadata": {},
   "outputs": [
    {
     "name": "stdout",
     "output_type": "stream",
     "text": [
      "enter X3\n",
      "6\n",
      "0\n"
     ]
    }
   ],
   "source": [
    "x=int(input(\"enter X\"))\n",
    "if x>2:\n",
    "    x=x*2\n",
    "print(x)\n",
    "if x>4:\n",
    "    x=0\n",
    "print(x)"
   ]
  },
  {
   "cell_type": "markdown",
   "id": "d48fdcf9",
   "metadata": {},
   "source": [
    "Creating Numpy DataType"
   ]
  },
  {
   "cell_type": "code",
   "execution_count": 14,
   "id": "337c5bd2",
   "metadata": {},
   "outputs": [
    {
     "name": "stdout",
     "output_type": "stream",
     "text": [
      "<class 'numpy.ndarray'>\n",
      "1\n",
      "[[1 2 3 4]\n",
      " [2 3 4 5]]\n",
      "2\n",
      "<class 'numpy.ndarray'>\n",
      "[[[1 2 3]]]\n",
      "3\n",
      "5\n"
     ]
    }
   ],
   "source": [
    "\n",
    "import numpy as np\n",
    "#one-d array\n",
    "arr=np.array([1,2,4,5])\n",
    "print(type(arr))\n",
    "print(arr.ndim)\n",
    "#Two-d array\n",
    "arr2=np.array([[1,2,3,4],[2,3,4,5]])\n",
    "print(arr2)\n",
    "print(arr2.ndim)\n",
    "print(type(arr2))\n",
    "print(arr2[1,3])\n",
    "arr3=np.array([1,2,3],ndmin=3)\n",
    "print(arr3)\n",
    "print(arr3.ndim)\n"
   ]
  },
  {
   "cell_type": "markdown",
   "id": "b49aaf81",
   "metadata": {},
   "source": [
    "#Slicing Operation"
   ]
  },
  {
   "cell_type": "code",
   "execution_count": 18,
   "id": "805e555d",
   "metadata": {},
   "outputs": [
    {
     "name": "stdout",
     "output_type": "stream",
     "text": [
      "[2 3 4]\n",
      "[2 4]\n"
     ]
    }
   ],
   "source": [
    "#Slicing\n",
    "a=np.array([1,2,3,4,5])\n",
    "print(a[1:4])\n",
    "#Every other item from (including) the second item to (not including) the fifth item.\n",
    "#Tip: use the step syntax.\n",
    "print(a[1:4:2])\n",
    "\n",
    "\n"
   ]
  },
  {
   "cell_type": "markdown",
   "id": "0995e633",
   "metadata": {},
   "source": [
    "DataTypes in Numpy"
   ]
  },
  {
   "cell_type": "code",
   "execution_count": 24,
   "id": "51422534",
   "metadata": {},
   "outputs": [
    {
     "name": "stdout",
     "output_type": "stream",
     "text": [
      "[b'1' b'2' b'3' b'4']\n",
      "[1 2 3 4]\n"
     ]
    }
   ],
   "source": [
    "#Convert b array integers to String\n",
    "b=np.array([1,2,3,4],dtype='S')\n",
    "print(b)\n",
    "#Convert float values to intger\n",
    "c=np.array([1.1,2.2,3.3,4.4])\n",
    "print(c.astype('i'))\n",
    "\n",
    "\n"
   ]
  },
  {
   "cell_type": "markdown",
   "id": "1c4f889d",
   "metadata": {},
   "source": [
    "#Copying the array elements"
   ]
  },
  {
   "cell_type": "code",
   "execution_count": 27,
   "id": "fc216c4f",
   "metadata": {},
   "outputs": [
    {
     "name": "stdout",
     "output_type": "stream",
     "text": [
      "[1 2 3 4]\n",
      "[1 2 3 4]\n"
     ]
    }
   ],
   "source": [
    "d=np.array([1,2,3,4])\n",
    "e=d.copy()\n",
    "print(e)\n",
    "#View of the array\n",
    "f=d.view()\n",
    "print(f)"
   ]
  },
  {
   "cell_type": "markdown",
   "id": "9e8ac15a",
   "metadata": {},
   "source": [
    "Shape and reshape of an array"
   ]
  },
  {
   "cell_type": "code",
   "execution_count": 37,
   "id": "406680a7",
   "metadata": {},
   "outputs": [
    {
     "name": "stdout",
     "output_type": "stream",
     "text": [
      "(4,)\n",
      "actual shape (12,)\n",
      "[ 1  2  3  4  5  6  7  8  9 10 11 12]\n",
      "rearranged shape (4, 3)\n",
      "[[ 1  2  3  4]\n",
      " [ 5  6  7  8]\n",
      " [ 9 10 11 12]]\n",
      "[10 20 30 40 50 60 70 80 90]\n"
     ]
    }
   ],
   "source": [
    "arr=np.array([1,2,3,4])\n",
    "print(arr.shape)\n",
    "arr1=np.array([1,2,3,4,5,6,7,8,9,10,11,12])\n",
    "print(\"actual shape\",arr1.shape)\n",
    "print(arr1)\n",
    "arr2=arr1.reshape(4,3)\n",
    "print(\"rearranged shape\",arr2.shape)\n",
    "print(arr2.reshape(3,4))\n",
    "\n",
    "#Change shape of an array from 2-D to 1-D\n",
    "arr3=np.array([[10,20,30],[40,50,60],[70,80,90]])\n",
    "print(arr3.reshape(-1))"
   ]
  },
  {
   "cell_type": "markdown",
   "id": "8fef7eba",
   "metadata": {},
   "source": [
    "Join Operation on numpy arrays"
   ]
  },
  {
   "cell_type": "code",
   "execution_count": 44,
   "id": "b4cdf902",
   "metadata": {},
   "outputs": [
    {
     "name": "stdout",
     "output_type": "stream",
     "text": [
      "[1 2 3 4 4 5 6 7]\n",
      "[ 1  2  3  4  2 34 55]\n"
     ]
    }
   ],
   "source": [
    "a=np.array([1,2,3,4])\n",
    "b=np.array([4,5,6,7])\n",
    "c=np.array([2,34,55])\n",
    "print(np.concatenate((a,b)))\n",
    "print(np.concatenate((a,c)))"
   ]
  },
  {
   "cell_type": "markdown",
   "id": "e78f1904",
   "metadata": {},
   "source": [
    "#Searching  and Sorting"
   ]
  },
  {
   "cell_type": "code",
   "execution_count": 53,
   "id": "52e431d0",
   "metadata": {},
   "outputs": [
    {
     "name": "stdout",
     "output_type": "stream",
     "text": [
      "(array([3], dtype=int64),)\n",
      "(array([0], dtype=int64),)\n",
      "(array([], dtype=int64),)\n",
      "[1 2 3 4]\n"
     ]
    }
   ],
   "source": [
    "x=np.where(a==4)\n",
    "print(x)\n",
    "y=np.where(b==4)\n",
    "print(y)\n",
    "z=np.where(c==4)\n",
    "print(z)\n",
    "\n",
    "sort_ele=np.sort(a)\n",
    "print(sort_ele)\n"
   ]
  },
  {
   "cell_type": "code",
   "execution_count": 60,
   "id": "172ab251",
   "metadata": {},
   "outputs": [
    {
     "name": "stdout",
     "output_type": "stream",
     "text": [
      "[1, 4, 9, 16]\n",
      "16.1 ns ± 0.956 ns per loop (mean ± std. dev. of 7 runs, 100,000,000 loops each)\n",
      "7.56 ms ± 485 µs per loop (mean ± std. dev. of 7 runs, 100 loops each)\n",
      "50.8 µs ± 4.63 µs per loop (mean ± std. dev. of 7 runs, 10,000 loops each)\n"
     ]
    }
   ],
   "source": [
    "#time comparision with numpy and array\n",
    "arr1=np.array([1,2,3,4])\n",
    "res=[(j**2) for j in arr1]\n",
    "print(res)\n",
    "%timeit res\n",
    "\n",
    "#time Comparision blw them\n",
    "l=range(100000)\n",
    "%timeit [i**2 for i in l]\n",
    "\n",
    "l1=np.array(range(100000))\n",
    "%timeit l1**2\n"
   ]
  },
  {
   "cell_type": "code",
   "execution_count": null,
   "id": "c71816f2",
   "metadata": {},
   "outputs": [],
   "source": []
  }
 ],
 "metadata": {
  "kernelspec": {
   "display_name": "Python 3 (ipykernel)",
   "language": "python",
   "name": "python3"
  },
  "language_info": {
   "codemirror_mode": {
    "name": "ipython",
    "version": 3
   },
   "file_extension": ".py",
   "mimetype": "text/x-python",
   "name": "python",
   "nbconvert_exporter": "python",
   "pygments_lexer": "ipython3",
   "version": "3.11.4"
  }
 },
 "nbformat": 4,
 "nbformat_minor": 5
}
